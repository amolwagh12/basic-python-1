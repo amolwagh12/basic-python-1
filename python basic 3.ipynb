{
 "cells": [
  {
   "cell_type": "code",
   "execution_count": 5,
   "id": "d24c1f57-2480-4d48-9c35-7a0fab43cd03",
   "metadata": {},
   "outputs": [
    {
     "name": "stdin",
     "output_type": "stream",
     "text": [
      "enter a year 2024\n"
     ]
    },
    {
     "name": "stdout",
     "output_type": "stream",
     "text": [
      "2024 is a leap year\n"
     ]
    }
   ],
   "source": [
    "# to check leap year or not\n",
    "year=int(input('enter a year'))\n",
    "if (year%400==0) and (year%100==0):\n",
    "    print (year,'is a leap year')\n",
    "elif (year%4==0)and (year%100!=0):\n",
    "    print(year,'is a leap year')\n",
    "else:\n",
    "    print(year,'not a leap year')"
   ]
  },
  {
   "cell_type": "code",
   "execution_count": 12,
   "id": "30dff38a-5f75-431e-b5ca-301560a3ebcb",
   "metadata": {},
   "outputs": [
    {
     "name": "stdin",
     "output_type": "stream",
     "text": [
      "Enter a number 55\n",
      "Enter a number 4\n",
      "Enter a number 88\n"
     ]
    },
    {
     "name": "stdout",
     "output_type": "stream",
     "text": [
      "88 is greater\n"
     ]
    }
   ],
   "source": [
    "# find largest amonf the three numbers\n",
    "num1=int(input('Enter a number'))\n",
    "num2=int(input('Enter a number'))\n",
    "num3=int(input('Enter a number'))\n",
    "\n",
    "if num1>num2 and num1>num3:\n",
    "    print(num1,'is greater')\n",
    "elif num2>num1 and num2>num3:\n",
    "    print(num2,\"is greater\")\n",
    "else:\n",
    "    print(num3,'is greater')"
   ]
  },
  {
   "cell_type": "code",
   "execution_count": 5,
   "id": "48dcd465-61ac-49b6-94fd-862a3372cf48",
   "metadata": {},
   "outputs": [
    {
     "name": "stdin",
     "output_type": "stream",
     "text": [
      "enter a number 2\n"
     ]
    },
    {
     "name": "stdout",
     "output_type": "stream",
     "text": [
      "it is not a prime number\n"
     ]
    }
   ],
   "source": [
    "# to check number is prime or not\n",
    "num=int(input('enter a number'))\n",
    "\n",
    "if num == 1:\n",
    "    print('it is not a prime number')\n",
    "elif num%2==0:\n",
    "    print('it is not a prime number')\n",
    "else:\n",
    "    print('it is a prime number')"
   ]
  },
  {
   "cell_type": "code",
   "execution_count": 15,
   "id": "6ecae0c3-2861-4883-8ea4-3973941b6025",
   "metadata": {},
   "outputs": [
    {
     "name": "stdout",
     "output_type": "stream",
     "text": [
      "9\n"
     ]
    }
   ],
   "source": [
    "# write a program for generate  random number\n",
    "#using random module \n",
    "\n",
    "import random\n",
    "num=random.randint(0,10)\n",
    "print(num)"
   ]
  },
  {
   "cell_type": "code",
   "execution_count": 62,
   "id": "bc2345a1-7967-4d00-851a-53dbefa2b341",
   "metadata": {},
   "outputs": [
    {
     "name": "stdout",
     "output_type": "stream",
     "text": [
      "5\n"
     ]
    }
   ],
   "source": [
    "# write a program for generate  dice roll program\n",
    "#using random module \n",
    "\n",
    "import random\n",
    "num=random.randint(0,6)\n",
    "print(num)"
   ]
  },
  {
   "cell_type": "code",
   "execution_count": 75,
   "id": "7b80888a-dc78-46cf-bd23-4116a8f10c9b",
   "metadata": {},
   "outputs": [
    {
     "name": "stdin",
     "output_type": "stream",
     "text": [
      "enter a lower limit here: 1\n",
      "enter a upper limit here : 50\n"
     ]
    },
    {
     "name": "stdout",
     "output_type": "stream",
     "text": [
      "2\n",
      "3\n",
      "5\n",
      "7\n",
      "11\n",
      "13\n",
      "17\n",
      "19\n",
      "23\n",
      "29\n",
      "31\n",
      "37\n",
      "41\n",
      "43\n",
      "47\n"
     ]
    }
   ],
   "source": [
    "# write a program print all prime numbers in an interval\n",
    "\n",
    "lower=int(input('enter a lower limit here:'))\n",
    "upper=int(input('enter a upper limit here :'))\n",
    "for num in range (lower,upper+1):\n",
    "    if num> 1:\n",
    "        for i in range (2,num):\n",
    "            if num%i==0:\n",
    "                break\n",
    "        else :\n",
    "            print(num)\n",
    "         "
   ]
  },
  {
   "cell_type": "code",
   "execution_count": null,
   "id": "d42db6b7-d850-40cd-bdf9-f7a0df82a55f",
   "metadata": {},
   "outputs": [],
   "source": []
  }
 ],
 "metadata": {
  "kernelspec": {
   "display_name": "Python 3 (ipykernel)",
   "language": "python",
   "name": "python3"
  },
  "language_info": {
   "codemirror_mode": {
    "name": "ipython",
    "version": 3
   },
   "file_extension": ".py",
   "mimetype": "text/x-python",
   "name": "python",
   "nbconvert_exporter": "python",
   "pygments_lexer": "ipython3",
   "version": "3.10.8"
  }
 },
 "nbformat": 4,
 "nbformat_minor": 5
}
