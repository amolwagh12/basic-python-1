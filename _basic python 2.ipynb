{
 "cells": [
  {
   "cell_type": "code",
   "execution_count": 1,
   "id": "d4fcc33d-62e3-4458-9760-51133954a7d0",
   "metadata": {},
   "outputs": [],
   "source": [
    "# To write program to swap two variable "
   ]
  },
  {
   "cell_type": "code",
   "execution_count": 2,
   "id": "f6f72da6-3c47-4efd-84c6-fc01b7a3d4e8",
   "metadata": {},
   "outputs": [],
   "source": [
    "#x=13 and y=12 we need t swap values "
   ]
  },
  {
   "cell_type": "code",
   "execution_count": 3,
   "id": "3529fb37-d104-47c2-8588-0ec4c46bd651",
   "metadata": {},
   "outputs": [],
   "source": [
    "x=13\n",
    "y=12"
   ]
  },
  {
   "cell_type": "code",
   "execution_count": 4,
   "id": "b34ff538-bd62-49b9-ba94-450ddc1a604f",
   "metadata": {},
   "outputs": [
    {
     "name": "stdout",
     "output_type": "stream",
     "text": [
      "valuse of temp variable is 13\n"
     ]
    }
   ],
   "source": [
    "temp=13\n",
    "print('valuse of temp variable is', temp)"
   ]
  },
  {
   "cell_type": "code",
   "execution_count": 5,
   "id": "e38da6ec-d013-4f45-b490-bf5dea6e70a9",
   "metadata": {},
   "outputs": [
    {
     "name": "stdout",
     "output_type": "stream",
     "text": [
      "values of y is 13\n"
     ]
    }
   ],
   "source": [
    "y= temp\n",
    "print ('values of y is',y)"
   ]
  },
  {
   "cell_type": "code",
   "execution_count": null,
   "id": "ab198b63-26c9-41e0-8193-24d5283921b8",
   "metadata": {},
   "outputs": [],
   "source": [
    "# without using 3rd variable"
   ]
  },
  {
   "cell_type": "code",
   "execution_count": 7,
   "id": "fdb27bdb-c561-43ed-b804-f77687f62cc1",
   "metadata": {},
   "outputs": [
    {
     "name": "stdout",
     "output_type": "stream",
     "text": [
      "80\n",
      "10\n"
     ]
    }
   ],
   "source": [
    "a=10\n",
    "b=80\n",
    "\n",
    "a,b=b,a\n",
    "print(a)\n",
    "print(b)\n",
    " "
   ]
  },
  {
   "cell_type": "code",
   "execution_count": 8,
   "id": "f3c16d33-aade-4acf-9ce1-0c1c4c718cef",
   "metadata": {},
   "outputs": [],
   "source": [
    "# convert kilometers to miles"
   ]
  },
  {
   "cell_type": "code",
   "execution_count": 9,
   "id": "79fe4359-124d-41df-8d11-6625ad387a3b",
   "metadata": {},
   "outputs": [
    {
     "name": "stdout",
     "output_type": "stream",
     "text": [
      "12.42742\n"
     ]
    }
   ],
   "source": [
    "x=20\n",
    "z=x*0.621371\n",
    "print(z)"
   ]
  },
  {
   "cell_type": "code",
   "execution_count": 11,
   "id": "8ddd54a5-e1df-48ce-aace-32510d0365d8",
   "metadata": {},
   "outputs": [
    {
     "name": "stdin",
     "output_type": "stream",
     "text": [
      "enter values in kilometer 5\n"
     ]
    },
    {
     "name": "stdout",
     "output_type": "stream",
     "text": [
      "3.106855\n"
     ]
    }
   ],
   "source": [
    "x=float(input('enter values in kilometer'))\n",
    "z=x*0.621371\n",
    "print(z)"
   ]
  },
  {
   "cell_type": "code",
   "execution_count": 13,
   "id": "fc95637a-94c4-48ad-ad12-ab8e47c17cb7",
   "metadata": {},
   "outputs": [],
   "source": [
    "#write program is to check number is positive or negative or zero"
   ]
  },
  {
   "cell_type": "code",
   "execution_count": 19,
   "id": "a5e46eab-204a-43dc-bdd8-6c4719e83086",
   "metadata": {},
   "outputs": [
    {
     "name": "stdin",
     "output_type": "stream",
     "text": [
      "Enter a number 41\n"
     ]
    },
    {
     "name": "stdout",
     "output_type": "stream",
     "text": [
      "the number is positive\n"
     ]
    }
   ],
   "source": [
    "num=float(input('Enter a number'))\n",
    "if num==0:\n",
    "    print('number is zero')\n",
    "elif num>0:\n",
    "    print('the number is positive')\n",
    "else:\n",
    "    print('number is negative')\n",
    "     "
   ]
  },
  {
   "cell_type": "code",
   "execution_count": 28,
   "id": "66fa84ae-027f-4dcd-88c5-38a8ba9d204f",
   "metadata": {},
   "outputs": [
    {
     "name": "stdin",
     "output_type": "stream",
     "text": [
      "enter a number 10\n"
     ]
    },
    {
     "name": "stdout",
     "output_type": "stream",
     "text": [
      "number is even number\n"
     ]
    }
   ],
   "source": [
    "# check number is odd or even\n",
    "num=int(input('enter a number'))\n",
    "if num % 2==0:\n",
    "    print('number is even number')\n",
    "else:\n",
    "    print('number is odd number')"
   ]
  },
  {
   "cell_type": "code",
   "execution_count": null,
   "id": "9d5119c0-9ae3-4b73-bf45-98a90be5908f",
   "metadata": {},
   "outputs": [],
   "source": []
  }
 ],
 "metadata": {
  "kernelspec": {
   "display_name": "Python 3 (ipykernel)",
   "language": "python",
   "name": "python3"
  },
  "language_info": {
   "codemirror_mode": {
    "name": "ipython",
    "version": 3
   },
   "file_extension": ".py",
   "mimetype": "text/x-python",
   "name": "python",
   "nbconvert_exporter": "python",
   "pygments_lexer": "ipython3",
   "version": "3.10.8"
  }
 },
 "nbformat": 4,
 "nbformat_minor": 5
}
