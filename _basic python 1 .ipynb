{
 "cells": [
  {
   "cell_type": "code",
   "execution_count": 2,
   "id": "9745876a-a679-42ab-93ed-04ab7104ec2b",
   "metadata": {},
   "outputs": [
    {
     "name": "stdout",
     "output_type": "stream",
     "text": [
      "The sum of given two numbers is 70\n"
     ]
    }
   ],
   "source": [
    "a=40\n",
    "b=30\n",
    "print('The sum of given two numbers is',a+b)"
   ]
  },
  {
   "cell_type": "code",
   "execution_count": 3,
   "id": "92fc2c14-c74a-4daa-9419-32c39b38a735",
   "metadata": {},
   "outputs": [
    {
     "name": "stdout",
     "output_type": "stream",
     "text": [
      "The sum of two numbers= 800\n"
     ]
    }
   ],
   "source": [
    "z=300\n",
    "y=500\n",
    "p=z+y\n",
    "print('The sum of two numbers=',p)"
   ]
  },
  {
   "cell_type": "code",
   "execution_count": 5,
   "id": "42b79275-e2b1-4596-8b13-ebdeb7969593",
   "metadata": {},
   "outputs": [
    {
     "name": "stdin",
     "output_type": "stream",
     "text": [
      "enter a number 1 5000\n",
      "enter a number 2 1000\n"
     ]
    },
    {
     "name": "stdout",
     "output_type": "stream",
     "text": [
      "sum of two numbers= 6000.0\n"
     ]
    }
   ],
   "source": [
    "#solution 2 using user input \n",
    "num1=float(input('enter a number 1'))\n",
    "num2=float(input('enter a number 2'))\n",
    "print('sum of two numbers=',num1+num2)"
   ]
  },
  {
   "cell_type": "code",
   "execution_count": 7,
   "id": "c68b066e-5663-4b23-80e0-e8e9a3baf4bc",
   "metadata": {},
   "outputs": [],
   "source": [
    "# write a python program to find a square root of a number\n",
    "#solutio 1 using exponentiatio"
   ]
  },
  {
   "cell_type": "code",
   "execution_count": 10,
   "id": "327b78ef-2c98-4eec-93df-69a70653a995",
   "metadata": {},
   "outputs": [
    {
     "name": "stdout",
     "output_type": "stream",
     "text": [
      "square root of number is 8.0\n"
     ]
    }
   ],
   "source": [
    "num=64\n",
    "sr=num**(1/2)\n",
    "print('square root of number is',sr)"
   ]
  },
  {
   "cell_type": "code",
   "execution_count": 12,
   "id": "1e415ca2-8f6d-4e76-a1eb-6f57e703c7de",
   "metadata": {},
   "outputs": [
    {
     "name": "stdin",
     "output_type": "stream",
     "text": [
      "enter a number 90000000\n"
     ]
    },
    {
     "name": "stdout",
     "output_type": "stream",
     "text": [
      "square root of number is 9486.832980505138\n"
     ]
    }
   ],
   "source": [
    "num=float(input('enter a number'))\n",
    "sr=num**(1/2)\n",
    "print('square root of number is',sr)\n"
   ]
  },
  {
   "cell_type": "code",
   "execution_count": 13,
   "id": "37cd4bcd-deae-4978-a737-18853719b175",
   "metadata": {},
   "outputs": [
    {
     "name": "stdin",
     "output_type": "stream",
     "text": [
      "enter a number 8\n"
     ]
    },
    {
     "name": "stdout",
     "output_type": "stream",
     "text": [
      "square root of number is 64.0\n"
     ]
    }
   ],
   "source": [
    "#to find square of a number\n",
    "num=float(input('enter a number'))\n",
    "sr=num**(2)\n",
    "print('square root of number is',sr)"
   ]
  },
  {
   "cell_type": "code",
   "execution_count": 14,
   "id": "01ba4848-595c-4449-9b11-a9331f3e25c9",
   "metadata": {},
   "outputs": [],
   "source": [
    "# calculate area of triangle "
   ]
  },
  {
   "cell_type": "code",
   "execution_count": 20,
   "id": "90d64474-1553-4a4c-b976-d2ba7673691f",
   "metadata": {},
   "outputs": [
    {
     "name": "stdin",
     "output_type": "stream",
     "text": [
      "enter a height of a triangle 4\n",
      "enter a base of a triangle 6\n"
     ]
    },
    {
     "name": "stdout",
     "output_type": "stream",
     "text": [
      "Area of traiangle= 12.0\n"
     ]
    }
   ],
   "source": [
    "height=float(input('enter a height of a triangle'))\n",
    "base = float(input('enter a base of a triangle'))\n",
    "Area=1/2*height*base\n",
    "print(\"Area of traiangle=\",Area)"
   ]
  },
  {
   "cell_type": "code",
   "execution_count": 21,
   "id": "632fcc90-339b-4554-9206-577da80e25fa",
   "metadata": {},
   "outputs": [],
   "source": [
    " \n",
    "\n"
   ]
  },
  {
   "cell_type": "code",
   "execution_count": null,
   "id": "6331ed45-f497-41a0-a22e-3098d828011d",
   "metadata": {},
   "outputs": [],
   "source": [
    " \n"
   ]
  }
 ],
 "metadata": {
  "kernelspec": {
   "display_name": "Python 3 (ipykernel)",
   "language": "python",
   "name": "python3"
  },
  "language_info": {
   "codemirror_mode": {
    "name": "ipython",
    "version": 3
   },
   "file_extension": ".py",
   "mimetype": "text/x-python",
   "name": "python",
   "nbconvert_exporter": "python",
   "pygments_lexer": "ipython3",
   "version": "3.10.8"
  }
 },
 "nbformat": 4,
 "nbformat_minor": 5
}
